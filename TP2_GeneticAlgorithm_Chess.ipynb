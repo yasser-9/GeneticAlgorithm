{
  "nbformat": 4,
  "nbformat_minor": 0,
  "metadata": {
    "colab": {
      "name": "TP_Chess.ipynb",
      "provenance": [],
      "collapsed_sections": []
    },
    "kernelspec": {
      "name": "python3",
      "display_name": "Python 3"
    },
    "language_info": {
      "name": "python"
    }
  },
  "cells": [
    {
      "cell_type": "markdown",
      "source": [
        "# TP Genetic Algorithm Chess Queens\n",
        "\n",
        "> ## Réalisé Par: SOKRI Yasser - IID 2 - N°41\n",
        "> ## Encadré Par: Monsieur ELKHALFI Hamza"
      ],
      "metadata": {
        "id": "DGVeNJSk5vQY"
      }
    },
    {
      "cell_type": "markdown",
      "source": [
        "![image.png](data:image/png;base64,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)"
      ],
      "metadata": {
        "id": "CLlXgUJz6tzO"
      }
    },
    {
      "cell_type": "markdown",
      "source": [
        "# TP - Les reines Chess:\n",
        "  * ***Etape1***: Génération aléatoire d'une population\n",
        "  * ***Etape2***: Calcul de la fonction Fitness\n",
        "  * ***Etape3***: Selection des population en se basant sur la fitness\n",
        "  * ***Etape4***: Croissement (crossover)\n",
        "  * ***Etape5***: Mutation\n",
        "  * ***Etape6***: Création de la fonction Croissement&Mutation, en utilisant ces deux derniers, et precisant les probabilité de croissement et de mutation\n",
        "  * **Etape7**: La fonction principale pour implemnenter l'algorithme génétique"
      ],
      "metadata": {
        "id": "opspRAM-RI56"
      }
    },
    {
      "cell_type": "markdown",
      "source": [
        "La bibliothèque NumPy:"
      ],
      "metadata": {
        "id": "3po5cKdgMbPZ"
      }
    },
    {
      "cell_type": "code",
      "execution_count": 1,
      "metadata": {
        "id": "a8bKFyO1Kydh"
      },
      "outputs": [],
      "source": [
        "import numpy as np\n",
        "import matplotlib.pyplot as plt"
      ]
    },
    {
      "cell_type": "code",
      "source": [
        "def init_population(population_size):\n",
        "  return np.random.randint(8, size=(population_size, 8))"
      ],
      "metadata": {
        "id": "gqhclWUEMhpa"
      },
      "execution_count": 2,
      "outputs": []
    },
    {
      "cell_type": "code",
      "source": [
        "init_population(8)"
      ],
      "metadata": {
        "colab": {
          "base_uri": "https://localhost:8080/"
        },
        "id": "fycoxgqIM2Xs",
        "outputId": "98e4d701-429e-4617-9290-dfd9c74f267f"
      },
      "execution_count": 3,
      "outputs": [
        {
          "output_type": "execute_result",
          "data": {
            "text/plain": [
              "array([[6, 2, 7, 3, 6, 6, 5, 1],\n",
              "       [2, 2, 3, 4, 0, 1, 2, 5],\n",
              "       [5, 2, 0, 6, 4, 4, 4, 5],\n",
              "       [6, 0, 3, 4, 6, 0, 4, 6],\n",
              "       [4, 6, 4, 0, 5, 5, 0, 4],\n",
              "       [7, 6, 7, 3, 1, 2, 4, 1],\n",
              "       [5, 0, 1, 2, 7, 6, 0, 7],\n",
              "       [5, 5, 4, 4, 3, 3, 0, 1]])"
            ]
          },
          "metadata": {},
          "execution_count": 3
        }
      ]
    },
    {
      "cell_type": "code",
      "source": [
        "def fitness(population):\n",
        "  valeurs_fitness = []\n",
        "  for pop in population:\n",
        "    penalite = 0\n",
        "    for i in range(8):\n",
        "      r = pop[i]\n",
        "      for j in range(8):\n",
        "        if i == j:\n",
        "          continue\n",
        "        d = abs(i - j)\n",
        "        if pop[j] in [r, r-d, r+d]:\n",
        "          penalite = penalite + 1\n",
        "    valeurs_fitness.append(penalite)\n",
        "  return -np.array(valeurs_fitness)"
      ],
      "metadata": {
        "id": "BLXyRMC_M80m"
      },
      "execution_count": 4,
      "outputs": []
    },
    {
      "cell_type": "code",
      "source": [
        "fitness(init_population(8))"
      ],
      "metadata": {
        "colab": {
          "base_uri": "https://localhost:8080/"
        },
        "id": "V9ELukwTQ4_-",
        "outputId": "559b3879-c9ef-43d2-fef9-a1e24c48558a"
      },
      "execution_count": 5,
      "outputs": [
        {
          "output_type": "execute_result",
          "data": {
            "text/plain": [
              "array([-22, -14, -18, -16, -14, -10, -18, -24])"
            ]
          },
          "metadata": {},
          "execution_count": 5
        }
      ]
    },
    {
      "cell_type": "code",
      "source": [
        "def selection(population, valeurs_fitness):\n",
        "  probs = valeurs_fitness.copy()\n",
        "  probs = probs + abs(probs.min()) + 1\n",
        "  probs = probs/probs.sum()\n",
        "  N = len(population)\n",
        "  indices = np.arange(N)\n",
        "  indicesSelectionne = np.random.choice(indices, size=N, p=probs)\n",
        "  populationSelectionne = population[indicesSelectionne]\n",
        "  return populationSelectionne"
      ],
      "metadata": {
        "id": "yykI-fBmQ9ZA"
      },
      "execution_count": 6,
      "outputs": []
    },
    {
      "cell_type": "code",
      "source": [
        "selection(init_population(8), fitness(init_population(8)))"
      ],
      "metadata": {
        "colab": {
          "base_uri": "https://localhost:8080/"
        },
        "id": "r4y6FKpX8f4z",
        "outputId": "c24382ee-9337-4d0b-f34e-aa9dc5fca51d"
      },
      "execution_count": 7,
      "outputs": [
        {
          "output_type": "execute_result",
          "data": {
            "text/plain": [
              "array([[3, 0, 4, 4, 2, 2, 6, 4],\n",
              "       [3, 0, 4, 4, 2, 2, 6, 4],\n",
              "       [4, 2, 1, 3, 2, 5, 6, 6],\n",
              "       [7, 4, 4, 5, 7, 0, 7, 7],\n",
              "       [2, 3, 6, 7, 6, 3, 3, 4],\n",
              "       [1, 0, 2, 4, 1, 4, 4, 0],\n",
              "       [3, 0, 4, 4, 2, 2, 6, 4],\n",
              "       [3, 0, 4, 4, 2, 2, 6, 4]])"
            ]
          },
          "metadata": {},
          "execution_count": 7
        }
      ]
    },
    {
      "cell_type": "code",
      "source": [
        "def crossover(pere1, pere2, pc):\n",
        "  r = np.random.random()\n",
        "  if r < pc:\n",
        "    m = np.random.randint(1, 8)\n",
        "    enfant1 = np.concatenate([pere1[:m], pere2[m:]])\n",
        "    enfant2 = np.concatenate([pere2[:m], pere1[m:]])\n",
        "  else:\n",
        "    enfant1 = pere1.copy()\n",
        "    enfant2 = pere2.copy()\n",
        "  return enfant1, enfant2\n"
      ],
      "metadata": {
        "id": "6mkFAOEMT4Hk"
      },
      "execution_count": 8,
      "outputs": []
    },
    {
      "cell_type": "code",
      "source": [
        "def mutation(individu, pm):\n",
        "  r = np.random.random()\n",
        "  if r < pm:\n",
        "    m = np.random.randint(8)\n",
        "    individu[m] = np.random.randint(8)\n",
        "  return individu"
      ],
      "metadata": {
        "id": "25GobjNfUois"
      },
      "execution_count": 9,
      "outputs": []
    },
    {
      "cell_type": "code",
      "source": [
        "def croissementMutation(populationSelectionne, pc, pm):\n",
        "  # il faut absolument que le nombre de la population selectionnée soit paire\n",
        "  N = len(populationSelectionne)\n",
        "  newPopulation = np.empty((N, 8), dtype=int)\n",
        "  for i in range(0, N, 2):\n",
        "    pere1 = populationSelectionne[i]\n",
        "    pere2 = populationSelectionne[i+1]\n",
        "    enfant1, enfant2 = crossover(pere1, pere2, pc)\n",
        "    newPopulation[i] = enfant1\n",
        "    newPopulation[i+1] = enfant2\n",
        "  for i in range(N):\n",
        "    mutation(newPopulation[i], pm)\n",
        "  return newPopulation"
      ],
      "metadata": {
        "id": "ZTCZVqlMXyzK"
      },
      "execution_count": 10,
      "outputs": []
    },
    {
      "cell_type": "code",
      "source": [
        "def main(population_size, maxGeneration, pc=0.7, pm=0.01):\n",
        "\n",
        "  liste = []\n",
        "  population = init_population(population_size)\n",
        "  meilleur_fitness_global = None\n",
        "  for i_gen in range(maxGeneration):\n",
        "    valeurs_fitness = fitness(population)\n",
        "    meilleur_i = valeurs_fitness.argmax()\n",
        "    meilleur_fitness = valeurs_fitness[meilleur_i]\n",
        "    if meilleur_fitness_global is None or meilleur_fitness > meilleur_fitness_global:\n",
        "      meilleur_fitness_global = meilleur_fitness\n",
        "      meilleur_solution = population[meilleur_i]\n",
        "    liste.append(-meilleur_fitness)\n",
        "    print(f'\\rGeneration: {i_gen+1:06} Fitness: {-meilleur_fitness:03}') \n",
        "    if meilleur_fitness == 0:\n",
        "      print('\\n Solution Optimale Trouvée:')\n",
        "      break\n",
        "    populationSelectionne = selection(population, valeurs_fitness)\n",
        "    population = croissementMutation(populationSelectionne, pc, pm)\n",
        "  print()\n",
        "  print(meilleur_solution)\n",
        "\n",
        "  xx = [i for i in range(len(liste))]\n",
        "  plt.plot(xx, liste)\n",
        "  plt.title('Convergence Graph')\n",
        "  plt.xlabel('Iteration')\n",
        "  plt.ylabel('Fitness')\n",
        "  plt.show()"
      ],
      "metadata": {
        "id": "jAJVT2_4ZCBF"
      },
      "execution_count": 27,
      "outputs": []
    },
    {
      "cell_type": "code",
      "source": [
        "main(population_size=2000, maxGeneration=10000, pc=0.7, pm=0.01)"
      ],
      "metadata": {
        "colab": {
          "base_uri": "https://localhost:8080/",
          "height": 573
        },
        "id": "tgXXTKekwk1_",
        "outputId": "630b6320-64ca-4c7c-c8b0-ece7edbb651e"
      },
      "execution_count": 28,
      "outputs": [
        {
          "output_type": "stream",
          "name": "stdout",
          "text": [
            "\rGeneration: 000001 Fitness: 004\n",
            "Generation: 000002 Fitness: 002\n",
            "Generation: 000003 Fitness: 002\n",
            "Generation: 000004 Fitness: 004\n",
            "Generation: 000005 Fitness: 002\n",
            "Generation: 000006 Fitness: 002\n",
            "Generation: 000007 Fitness: 004\n",
            "Generation: 000008 Fitness: 002\n",
            "Generation: 000009 Fitness: 002\n",
            "Generation: 000010 Fitness: 002\n",
            "Generation: 000011 Fitness: 002\n",
            "Generation: 000012 Fitness: 000\n",
            "\n",
            " Solution Optimale Trouvée:\n",
            "\n",
            "[2 5 7 0 4 6 1 3]\n"
          ]
        },
        {
          "output_type": "display_data",
          "data": {
            "text/plain": [
              "<Figure size 432x288 with 1 Axes>"
            ],
            "image/png": "[encoded data removed]"
          },
          "metadata": {
            "needs_background": "light"
          }
        }
      ]
    },
    {
      "cell_type": "code",
      "source": [
        "main(population_size=2000, maxGeneration=10000, pc=0.7, pm=0.01)"
      ],
      "metadata": {
        "id": "pnKwG5V76SQr",
        "colab": {
          "base_uri": "https://localhost:8080/",
          "height": 642
        },
        "outputId": "e8c4de31-1e82-4224-fb71-8b6b046c03e6"
      },
      "execution_count": 29,
      "outputs": [
        {
          "output_type": "stream",
          "name": "stdout",
          "text": [
            "\rGeneration: 000001 Fitness: 004\n",
            "Generation: 000002 Fitness: 004\n",
            "Generation: 000003 Fitness: 004\n",
            "Generation: 000004 Fitness: 004\n",
            "Generation: 000005 Fitness: 002\n",
            "Generation: 000006 Fitness: 002\n",
            "Generation: 000007 Fitness: 002\n",
            "Generation: 000008 Fitness: 002\n",
            "Generation: 000009 Fitness: 002\n",
            "Generation: 000010 Fitness: 002\n",
            "Generation: 000011 Fitness: 004\n",
            "Generation: 000012 Fitness: 002\n",
            "Generation: 000013 Fitness: 002\n",
            "Generation: 000014 Fitness: 002\n",
            "Generation: 000015 Fitness: 002\n",
            "Generation: 000016 Fitness: 000\n",
            "\n",
            " Solution Optimale Trouvée:\n",
            "\n",
            "[2 4 6 0 3 1 7 5]\n"
          ]
        },
        {
          "output_type": "display_data",
          "data": {
            "text/plain": [
              "<Figure size 432x288 with 1 Axes>"
            ],
            "image/png": "[encoded data removed]"
          },
          "metadata": {
            "needs_background": "light"
          }
        }
      ]
    },
    {
      "cell_type": "markdown",
      "source": [
        "# Conclusion: \n",
        "- Finalement on a constater que les deux derniers sections montrent des convergences differents pour le problème de l'emplacement des reines, ainsi que les solutions optimales n'étaient pas les mêmes, alors nous pouvons conclure que ce problemes des reines admet plus qu'une solution optimale."
      ],
      "metadata": {
        "id": "-n_IvIR4BrVN"
      }
    },
    {
      "cell_type": "code",
      "source": [
        ""
      ],
      "metadata": {
        "id": "hSZDSPhnCXxN"
      },
      "execution_count": null,
      "outputs": []
    }
  ]
}