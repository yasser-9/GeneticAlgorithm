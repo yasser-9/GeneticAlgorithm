{
  "nbformat": 4,
  "nbformat_minor": 0,
  "metadata": {
    "colab": {
      "name": "TP1_GeneticAlgorithm.ipynb",
      "provenance": [],
      "collapsed_sections": []
    },
    "kernelspec": {
      "name": "python3",
      "display_name": "Python 3"
    },
    "language_info": {
      "name": "python"
    }
  },
  "cells": [
    {
      "cell_type": "markdown",
      "source": [
        "# TP Genetic algorithm\n",
        "\n",
        ">* ##  Réalisé par: SOKRI Yasser IID2 41\n",
        "\n",
        ">* ## Encadré par: Monsieur ELKHALFI Hamza\n",
        "\n"
      ],
      "metadata": {
        "id": "jaISO-8LuYio"
      }
    },
    {
      "cell_type": "code",
      "execution_count": 31,
      "metadata": {
        "id": "hKwRcdhwEKUp"
      },
      "outputs": [],
      "source": [
        "import numpy as np\n",
        "import math"
      ]
    },
    {
      "cell_type": "markdown",
      "source": [
        "![image.png](data:image/png;base64,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)"
      ],
      "metadata": {
        "id": "9ECA-FiEKT0u"
      }
    },
    {
      "cell_type": "markdown",
      "source": [
        "# Étapes:\n",
        "* definir la taille de population\n",
        "* nombre de generation\n",
        "* intialiser une population en precisant la taille (ci-dessus)\n",
        "* evaluer la population (fitness function)\n",
        "> boucle\n",
        "* selectionner les parents\n",
        "* faire des croissement et mutation\n",
        "* evaluer la nouvelle population\n",
        "* la population qui va survivre\n",
        "> répeter ces instructions jusqu'à l'un des critère d'arrets soit realiser"
      ],
      "metadata": {
        "id": "9SwvjsZx0SzA"
      }
    },
    {
      "cell_type": "markdown",
      "source": [
        "> # Intialisation d'une population"
      ],
      "metadata": {
        "id": "cUUKIouHdPgR"
      }
    },
    {
      "cell_type": "code",
      "source": [
        "def init_population(N):\n",
        "  liste = []\n",
        "  for i in range(N):\n",
        "    liste.append(np.random.choice([1, 0], 8))\n",
        "  return liste"
      ],
      "metadata": {
        "id": "wZDFSQFiKD3I"
      },
      "execution_count": 32,
      "outputs": []
    },
    {
      "cell_type": "code",
      "source": [
        "init_population(6)"
      ],
      "metadata": {
        "colab": {
          "base_uri": "https://localhost:8080/"
        },
        "id": "hF9nrJZ6K5Ee",
        "outputId": "b78bdc93-ec44-4618-ed34-084b8450bfaa"
      },
      "execution_count": 33,
      "outputs": [
        {
          "output_type": "execute_result",
          "data": {
            "text/plain": [
              "[array([0, 1, 1, 0, 1, 1, 0, 1]),\n",
              " array([0, 0, 1, 0, 0, 0, 0, 1]),\n",
              " array([0, 0, 1, 1, 1, 0, 1, 0]),\n",
              " array([1, 1, 1, 0, 0, 1, 0, 1]),\n",
              " array([0, 1, 1, 0, 0, 1, 0, 0]),\n",
              " array([1, 0, 1, 0, 1, 1, 1, 0])]"
            ]
          },
          "metadata": {},
          "execution_count": 33
        }
      ]
    },
    {
      "cell_type": "markdown",
      "source": [
        "> # Fonction d'evaluation Fitness"
      ],
      "metadata": {
        "id": "CK5c0f4ldXVK"
      }
    },
    {
      "cell_type": "markdown",
      "source": [
        "> ### Fonction Conversion d'un nombre binaire au décimal"
      ],
      "metadata": {
        "id": "7iXeL6OtvEGP"
      }
    },
    {
      "cell_type": "code",
      "source": [
        "def binaryToDec(x):\n",
        "  dec = 0\n",
        "  for i in range(8):\n",
        "    dec = 2**i * x[-i-1] + dec\n",
        "    #print(i, x[i-1])\n",
        "  return dec"
      ],
      "metadata": {
        "id": "oEyxiHA-LUqW"
      },
      "execution_count": 34,
      "outputs": []
    },
    {
      "cell_type": "markdown",
      "source": [
        "### Test conversion:"
      ],
      "metadata": {
        "id": "u06CUlkOdpUq"
      }
    },
    {
      "cell_type": "code",
      "source": [
        "x = np.random.choice([1, 0], 8)\n",
        "print(x)\n",
        "binaryToDec(x)"
      ],
      "metadata": {
        "colab": {
          "base_uri": "https://localhost:8080/"
        },
        "id": "vyaaU6YGLVyE",
        "outputId": "7ba85548-8b78-4ce4-d201-e0bf98d97abb"
      },
      "execution_count": 35,
      "outputs": [
        {
          "output_type": "stream",
          "name": "stdout",
          "text": [
            "[1 0 1 0 1 1 1 0]\n"
          ]
        },
        {
          "output_type": "execute_result",
          "data": {
            "text/plain": [
              "174"
            ]
          },
          "metadata": {},
          "execution_count": 35
        }
      ]
    },
    {
      "cell_type": "code",
      "source": [
        "def fitness(x):\n",
        "  y = binaryToDec(x)\n",
        "  return math.sin((y*math.pi) / 255)"
      ],
      "metadata": {
        "id": "uqTlsezwMD_U"
      },
      "execution_count": 36,
      "outputs": []
    },
    {
      "cell_type": "code",
      "source": [
        "x = np.random.choice([1, 0], 8)\n",
        "print(x)\n",
        "fitness(x)"
      ],
      "metadata": {
        "colab": {
          "base_uri": "https://localhost:8080/"
        },
        "id": "cocluUNWMVFX",
        "outputId": "dd252721-9a9c-43e0-abe2-1a822e1deb1a"
      },
      "execution_count": 37,
      "outputs": [
        {
          "output_type": "stream",
          "name": "stdout",
          "text": [
            "[0 1 0 0 0 1 1 1]\n"
          ]
        },
        {
          "output_type": "execute_result",
          "data": {
            "text/plain": [
              "0.7673626814486969"
            ]
          },
          "metadata": {},
          "execution_count": 37
        }
      ]
    },
    {
      "cell_type": "markdown",
      "source": [
        "> # Selection"
      ],
      "metadata": {
        "id": "wdlEHospeOwq"
      }
    },
    {
      "cell_type": "code",
      "source": [
        "def select(pop_size, n_parents):\n",
        "  s = []\n",
        "  for i in range(n_parents):\n",
        "    s.append(np.random.randint(pop_size, size=2))\n",
        "  return s"
      ],
      "metadata": {
        "id": "VMjJO2VFNBah"
      },
      "execution_count": 38,
      "outputs": []
    },
    {
      "cell_type": "code",
      "source": [
        "select(4, 8)"
      ],
      "metadata": {
        "colab": {
          "base_uri": "https://localhost:8080/"
        },
        "id": "d35_KuIJQKRL",
        "outputId": "18e4a866-0878-423f-d83d-2c86dcf0e434"
      },
      "execution_count": 39,
      "outputs": [
        {
          "output_type": "execute_result",
          "data": {
            "text/plain": [
              "[array([1, 2]),\n",
              " array([0, 1]),\n",
              " array([1, 1]),\n",
              " array([0, 3]),\n",
              " array([3, 1]),\n",
              " array([3, 3]),\n",
              " array([3, 1]),\n",
              " array([3, 2])]"
            ]
          },
          "metadata": {},
          "execution_count": 39
        }
      ]
    },
    {
      "cell_type": "code",
      "source": [
        "def select2(n_matings, n_parents):\n",
        "    return np.random.randint(0, n_matings, (n_matings, n_parents))"
      ],
      "metadata": {
        "id": "ks1__eSFfWDs"
      },
      "execution_count": 40,
      "outputs": []
    },
    {
      "cell_type": "code",
      "source": [
        "select2(8, 2)"
      ],
      "metadata": {
        "colab": {
          "base_uri": "https://localhost:8080/"
        },
        "id": "N0JH-AW4fYHG",
        "outputId": "696dac95-765e-488e-fb50-99cf5aea890e"
      },
      "execution_count": 41,
      "outputs": [
        {
          "output_type": "execute_result",
          "data": {
            "text/plain": [
              "array([[4, 6],\n",
              "       [2, 2],\n",
              "       [0, 6],\n",
              "       [1, 3],\n",
              "       [5, 2],\n",
              "       [1, 0],\n",
              "       [3, 1],\n",
              "       [7, 7]])"
            ]
          },
          "metadata": {},
          "execution_count": 41
        }
      ]
    },
    {
      "cell_type": "markdown",
      "source": [
        "> # Croissement"
      ],
      "metadata": {
        "id": "aAdxOL81vf3l"
      }
    },
    {
      "cell_type": "code",
      "source": [
        "def crossover2(parent1, parent2):\n",
        "  enfant = []\n",
        "  for i in range(8):\n",
        "    if(np.random.randint(2) == 0):\n",
        "      enfant.append(parent1[i])\n",
        "    else :\n",
        "      enfant.append(parent2[i])\n",
        "\n",
        "  return enfant"
      ],
      "metadata": {
        "id": "-WP4GEkC2PFM"
      },
      "execution_count": 42,
      "outputs": []
    },
    {
      "cell_type": "markdown",
      "source": [
        "> # Mutation"
      ],
      "metadata": {
        "id": "6J4YuPKnvtOV"
      }
    },
    {
      "cell_type": "code",
      "source": [
        "def mutation(individu):\n",
        "\n",
        "  K = np.zeros(8)\n",
        "  for i in range(len(individu)):\n",
        "      u = np.random.uniform(0, 1)\n",
        "      if(u < 0.5):\n",
        "        if individu[i] == 0:\n",
        "          K[i]= 1\n",
        "        else:\n",
        "          K[i] = 0\n",
        "  return K"
      ],
      "metadata": {
        "id": "QDfKOoL28IOj"
      },
      "execution_count": 43,
      "outputs": []
    },
    {
      "cell_type": "markdown",
      "source": [
        "> # Survival"
      ],
      "metadata": {
        "id": "I254winlvwsJ"
      }
    },
    {
      "cell_type": "code",
      "source": [
        "def survival(f, n_survivors):\n",
        "  #trier pui garder que les n_survivors premier elements\n",
        "    return np.argsort(-f)[:n_survivors]"
      ],
      "metadata": {
        "id": "FNNm8fe42O42"
      },
      "execution_count": 44,
      "outputs": []
    },
    {
      "cell_type": "code",
      "source": [
        "F = np.array([fitness(a) for a in A])\n",
        "F"
      ],
      "metadata": {
        "colab": {
          "base_uri": "https://localhost:8080/"
        },
        "id": "nO3667542O2O",
        "outputId": "3bfd0aac-bacf-4cfc-8878-0d6fcc42018f"
      },
      "execution_count": 45,
      "outputs": [
        {
          "output_type": "execute_result",
          "data": {
            "text/plain": [
              "array([0.06156091, 0.99573418, 0.9741386 , 0.77520398, 0.51591783,\n",
              "       0.56767472, 0.9984636 , 0.84695821, 0.02463745, 0.85979985,\n",
              "       0.23194764, 0.30315267])"
            ]
          },
          "metadata": {},
          "execution_count": 45
        }
      ]
    },
    {
      "cell_type": "code",
      "source": [
        "survival(F, 8)"
      ],
      "metadata": {
        "colab": {
          "base_uri": "https://localhost:8080/"
        },
        "id": "BoxRvZEo3Ymg",
        "outputId": "69a52895-5811-41fc-f5b7-9d6a633f84cf"
      },
      "execution_count": 46,
      "outputs": [
        {
          "output_type": "execute_result",
          "data": {
            "text/plain": [
              "array([6, 1, 2, 9, 7, 3, 5, 4])"
            ]
          },
          "metadata": {},
          "execution_count": 46
        }
      ]
    },
    {
      "cell_type": "markdown",
      "source": [
        "> # Eliminer les duplication"
      ],
      "metadata": {
        "id": "yIPz4yQzv20h"
      }
    },
    {
      "cell_type": "code",
      "source": [
        "from scipy.spatial.distance import cdist\n",
        "\n",
        "def eliminate_duplicates(X):\n",
        "    D = cdist(X, X)\n",
        "    D[np.triu_indices(len(X))] = np.inf\n",
        "    return np.all(D > 1e-32, axis=1)"
      ],
      "metadata": {
        "id": "3LBS4BZ35Ent"
      },
      "execution_count": 47,
      "outputs": []
    },
    {
      "cell_type": "code",
      "source": [
        "pop_size = 5\n",
        "n_gen = 100\n",
        "\n",
        "X = init_population(pop_size)\n",
        "F = np.array([fitness(x) for x in X])\n",
        "\n",
        "for k in range(n_gen):\n",
        "  # Selectionner les parents pour appliquer le croissement par la suite\n",
        "    parents = select2(pop_size, 2)\n",
        "\n",
        "  # croissement - mutation\n",
        "    _X = np.array([mutation(crossover2(X[a], X[b])) for a, b in parents])\n",
        "    _F = np.array([fitness(x) for x in _X])\n",
        "\n",
        "    # concatener la population \n",
        "    X = np.row_stack([X, _X])\n",
        "    F = np.concatenate([F, _F])\n",
        "\n",
        "    # Eliminer les elements dupliques\n",
        "    I = eliminate_duplicates(X)\n",
        "    X = X[I]\n",
        "    F = F[I]\n",
        "\n",
        "    # les elements qui vont survivre\n",
        "    I = survival(F, pop_size)\n",
        "    X, F = X[I], F[I]\n",
        "\n",
        "    # afficher les resultats de chaque generation\n",
        "    print(k+1, F[0], X[0].astype(np.int))"
      ],
      "metadata": {
        "colab": {
          "base_uri": "https://localhost:8080/"
        },
        "id": "AnnEL1RG5GmG",
        "outputId": "05d1d29a-fe09-43c3-9f5b-ce282203a211"
      },
      "execution_count": 48,
      "outputs": [
        {
          "output_type": "stream",
          "name": "stdout",
          "text": [
            "1 0.9995257197133659 [1 0 0 0 0 0 1 0]\n",
            "2 0.9995257197133659 [1 0 0 0 0 0 1 0]\n",
            "3 0.9995257197133659 [1 0 0 0 0 0 1 0]\n",
            "4 0.9995257197133659 [1 0 0 0 0 0 1 0]\n",
            "5 0.9995257197133659 [1 0 0 0 0 0 1 0]\n",
            "6 0.9995257197133659 [1 0 0 0 0 0 1 0]\n",
            "7 0.9995257197133659 [1 0 0 0 0 0 1 0]\n",
            "8 0.9999810273487268 [0 1 1 1 1 1 1 1]\n",
            "9 0.9999810273487268 [0 1 1 1 1 1 1 1]\n",
            "10 0.9999810273487268 [0 1 1 1 1 1 1 1]\n"
          ]
        },
        {
          "output_type": "stream",
          "name": "stderr",
          "text": [
            "/usr/local/lib/python3.7/dist-packages/ipykernel_launcher.py:29: DeprecationWarning: `np.int` is a deprecated alias for the builtin `int`. To silence this warning, use `int` by itself. Doing this will not modify any behavior and is safe. When replacing `np.int`, you may wish to use e.g. `np.int64` or `np.int32` to specify the precision. If you wish to review your current use, check the release note link for additional information.\n",
            "Deprecated in NumPy 1.20; for more details and guidance: https://numpy.org/devdocs/release/1.20.0-notes.html#deprecations\n"
          ]
        },
        {
          "output_type": "stream",
          "name": "stdout",
          "text": [
            "11 0.9999810273487268 [0 1 1 1 1 1 1 1]\n",
            "12 0.9999810273487268 [0 1 1 1 1 1 1 1]\n",
            "13 0.9999810273487268 [0 1 1 1 1 1 1 1]\n",
            "14 0.9999810273487268 [0 1 1 1 1 1 1 1]\n",
            "15 0.9999810273487268 [0 1 1 1 1 1 1 1]\n",
            "16 0.9999810273487268 [0 1 1 1 1 1 1 1]\n",
            "17 0.9999810273487268 [0 1 1 1 1 1 1 1]\n",
            "18 0.9999810273487268 [0 1 1 1 1 1 1 1]\n",
            "19 0.9999810273487268 [0 1 1 1 1 1 1 1]\n",
            "20 0.9999810273487268 [0 1 1 1 1 1 1 1]\n",
            "21 0.9999810273487268 [0 1 1 1 1 1 1 1]\n",
            "22 0.9999810273487268 [0 1 1 1 1 1 1 1]\n",
            "23 0.9999810273487268 [0 1 1 1 1 1 1 1]\n",
            "24 0.9999810273487268 [0 1 1 1 1 1 1 1]\n",
            "25 0.9999810273487268 [0 1 1 1 1 1 1 1]\n",
            "26 0.9999810273487268 [0 1 1 1 1 1 1 1]\n",
            "27 0.9999810273487268 [0 1 1 1 1 1 1 1]\n",
            "28 0.9999810273487268 [0 1 1 1 1 1 1 1]\n",
            "29 0.9999810273487268 [0 1 1 1 1 1 1 1]\n",
            "30 0.9999810273487268 [0 1 1 1 1 1 1 1]\n",
            "31 0.9999810273487268 [0 1 1 1 1 1 1 1]\n",
            "32 0.9999810273487268 [0 1 1 1 1 1 1 1]\n",
            "33 0.9999810273487268 [0 1 1 1 1 1 1 1]\n",
            "34 0.9999810273487268 [0 1 1 1 1 1 1 1]\n",
            "35 0.9999810273487268 [0 1 1 1 1 1 1 1]\n",
            "36 0.9999810273487268 [0 1 1 1 1 1 1 1]\n",
            "37 0.9999810273487268 [0 1 1 1 1 1 1 1]\n",
            "38 0.9999810273487268 [0 1 1 1 1 1 1 1]\n",
            "39 0.9999810273487268 [0 1 1 1 1 1 1 1]\n",
            "40 0.9999810273487268 [0 1 1 1 1 1 1 1]\n",
            "41 0.9999810273487268 [0 1 1 1 1 1 1 1]\n",
            "42 0.9999810273487268 [0 1 1 1 1 1 1 1]\n",
            "43 0.9999810273487268 [0 1 1 1 1 1 1 1]\n",
            "44 0.9999810273487268 [0 1 1 1 1 1 1 1]\n",
            "45 0.9999810273487268 [0 1 1 1 1 1 1 1]\n",
            "46 0.9999810273487268 [0 1 1 1 1 1 1 1]\n",
            "47 0.9999810273487268 [0 1 1 1 1 1 1 1]\n",
            "48 0.9999810273487268 [0 1 1 1 1 1 1 1]\n",
            "49 0.9999810273487268 [0 1 1 1 1 1 1 1]\n",
            "50 0.9999810273487268 [0 1 1 1 1 1 1 1]\n",
            "51 0.9999810273487268 [0 1 1 1 1 1 1 1]\n",
            "52 0.9999810273487268 [0 1 1 1 1 1 1 1]\n",
            "53 0.9999810273487268 [0 1 1 1 1 1 1 1]\n",
            "54 0.9999810273487268 [0 1 1 1 1 1 1 1]\n",
            "55 0.9999810273487268 [0 1 1 1 1 1 1 1]\n",
            "56 0.9999810273487268 [0 1 1 1 1 1 1 1]\n",
            "57 0.9999810273487268 [0 1 1 1 1 1 1 1]\n",
            "58 0.9999810273487268 [0 1 1 1 1 1 1 1]\n",
            "59 0.9999810273487268 [0 1 1 1 1 1 1 1]\n",
            "60 0.9999810273487268 [0 1 1 1 1 1 1 1]\n",
            "61 0.9999810273487268 [0 1 1 1 1 1 1 1]\n",
            "62 0.9999810273487268 [0 1 1 1 1 1 1 1]\n",
            "63 0.9999810273487268 [0 1 1 1 1 1 1 1]\n",
            "64 0.9999810273487268 [0 1 1 1 1 1 1 1]\n",
            "65 0.9999810273487268 [0 1 1 1 1 1 1 1]\n",
            "66 0.9999810273487268 [0 1 1 1 1 1 1 1]\n",
            "67 0.9999810273487268 [0 1 1 1 1 1 1 1]\n",
            "68 0.9999810273487268 [0 1 1 1 1 1 1 1]\n",
            "69 0.9999810273487268 [0 1 1 1 1 1 1 1]\n",
            "70 0.9999810273487268 [0 1 1 1 1 1 1 1]\n",
            "71 0.9999810273487268 [0 1 1 1 1 1 1 1]\n",
            "72 0.9999810273487268 [0 1 1 1 1 1 1 1]\n",
            "73 0.9999810273487268 [0 1 1 1 1 1 1 1]\n",
            "74 0.9999810273487268 [0 1 1 1 1 1 1 1]\n",
            "75 0.9999810273487268 [0 1 1 1 1 1 1 1]\n",
            "76 0.9999810273487268 [0 1 1 1 1 1 1 1]\n",
            "77 0.9999810273487268 [0 1 1 1 1 1 1 1]\n",
            "78 0.9999810273487268 [0 1 1 1 1 1 1 1]\n",
            "79 0.9999810273487268 [0 1 1 1 1 1 1 1]\n",
            "80 0.9999810273487268 [0 1 1 1 1 1 1 1]\n",
            "81 0.9999810273487268 [0 1 1 1 1 1 1 1]\n",
            "82 0.9999810273487268 [0 1 1 1 1 1 1 1]\n",
            "83 0.9999810273487268 [0 1 1 1 1 1 1 1]\n",
            "84 0.9999810273487268 [0 1 1 1 1 1 1 1]\n",
            "85 0.9999810273487268 [0 1 1 1 1 1 1 1]\n",
            "86 0.9999810273487268 [0 1 1 1 1 1 1 1]\n",
            "87 0.9999810273487268 [0 1 1 1 1 1 1 1]\n",
            "88 0.9999810273487268 [0 1 1 1 1 1 1 1]\n",
            "89 0.9999810273487268 [0 1 1 1 1 1 1 1]\n",
            "90 0.9999810273487268 [0 1 1 1 1 1 1 1]\n",
            "91 0.9999810273487268 [0 1 1 1 1 1 1 1]\n",
            "92 0.9999810273487268 [0 1 1 1 1 1 1 1]\n",
            "93 0.9999810273487268 [0 1 1 1 1 1 1 1]\n",
            "94 0.9999810273487268 [0 1 1 1 1 1 1 1]\n",
            "95 0.9999810273487268 [0 1 1 1 1 1 1 1]\n",
            "96 0.9999810273487268 [0 1 1 1 1 1 1 1]\n",
            "97 0.9999810273487268 [0 1 1 1 1 1 1 1]\n",
            "98 0.9999810273487268 [0 1 1 1 1 1 1 1]\n",
            "99 0.9999810273487268 [0 1 1 1 1 1 1 1]\n",
            "100 0.9999810273487268 [0 1 1 1 1 1 1 1]\n"
          ]
        }
      ]
    },
    {
      "cell_type": "markdown",
      "source": [
        "## Conclusion: \n",
        "- Ce laboratoire TP était bénéfique en termes de pratique d'un exemple d'algorithme génétique, du fait qu'il me donne une idée plus claire de ces derniers."
      ],
      "metadata": {
        "id": "72ZP2aPnySmL"
      }
    },
    {
      "cell_type": "code",
      "source": [
        ""
      ],
      "metadata": {
        "id": "enK0pjqe0dU4"
      },
      "execution_count": 48,
      "outputs": []
    }
  ]
}